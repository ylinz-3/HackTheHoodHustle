{
  "nbformat": 4,
  "nbformat_minor": 0,
  "metadata": {
    "colab": {
      "provenance": [],
      "include_colab_link": true
    },
    "kernelspec": {
      "name": "python3",
      "display_name": "Python 3"
    },
    "language_info": {
      "name": "python"
    }
  },
  "cells": [
    {
      "cell_type": "markdown",
      "metadata": {
        "id": "view-in-github",
        "colab_type": "text"
      },
      "source": [
        "<a href=\"https://colab.research.google.com/github/ylinz-3/HackTheHoodHustle/blob/main/python_variables.ipynb\" target=\"_parent\"><img src=\"https://colab.research.google.com/assets/colab-badge.svg\" alt=\"Open In Colab\"/></a>"
      ]
    },
    {
      "cell_type": "code",
      "execution_count": 7,
      "metadata": {
        "colab": {
          "base_uri": "https://localhost:8080/"
        },
        "id": "46l53Aisb7y7",
        "outputId": "ea145922-e968-43d4-b36d-2212fe0401e4"
      },
      "outputs": [
        {
          "output_type": "stream",
          "name": "stdout",
          "text": [
            "Full name: Yonglin Zhao\n",
            "This is my nickname: Lin\n",
            "This is my age: 21\n",
            "Have I used python before?: False\n",
            "['frisbee', 'painting', 'watching tv', 'singing', 'cooking']\n"
          ]
        }
      ],
      "source": [
        "## To do lab: File > Save a copy to drive > Edit title\n",
        "\n",
        "### EXERCISE 1\n",
        "\n",
        "# Step 1: Create a Variable for Your Name\n",
        "# In your main.py file, create a variable and assign it a string\n",
        "#value that holds your first and last name.\n",
        "\n",
        "full_name = \"Yonglin Zhao\"\n",
        "\n",
        "# Step 2: Create a Nickname Variable\n",
        "# Create another variable that holds your favorite nickname or preferred name.\n",
        "\n",
        "nickname = \"Lin\"\n",
        "\n",
        "# Step 3: Define Your Age\n",
        "# Create a variable that represents your age using a numeric data type.\n",
        "\n",
        "age = 21\n",
        "\n",
        "# Step 4: Have You Used Python Before?\n",
        "# Create a variable using the boolean data type to answer the question:\n",
        "# \"Have you used Python before?\"\n",
        "# Use True for \"yes\" or False for \"no.\"\n",
        "\n",
        "used_python_before = False\n",
        "\n",
        "# Step 5: List Your Favorite Hobbies\n",
        "# Create a variable that is a list containing your favorite hobbies.\n",
        "# eg: hobbies = [\"coding\", \"basketball\", \"reading\"]\n",
        "# Make sure to type it out, do not copy and paste\n",
        "\n",
        "hobbies = [\"frisbee\", \"painting\", \"watching tv\", \"singing\", \"cooking\"]\n",
        "\n",
        "## Complete Print Statements:\n",
        "\n",
        "print(\"Full name:\", full_name)\n",
        "\n",
        "# Print the nickname, age, and used_python_before variables\n",
        "# eg: print(\"Full Name\":, full_name)\n",
        "\n",
        "print(\"This is my nickname:\", nickname)\n",
        "print(\"This is my age:\", age)\n",
        "print(\"Have I used python before?:\", used_python_before)\n",
        "\n",
        "# Print hobbies list\n",
        "\n",
        "print(\"These are my hobbies:\", hobbies)\n",
        "\n",
        "\n",
        "\n",
        "#------------------------------------------------------------------------------#\n",
        "\n",
        "\n",
        "### EXERCISE 2\n",
        "\n",
        "# Let's pretend we are signing up for a program.\n",
        "# We need to assign the following values, and then welcome our new user.\n",
        "\n",
        "# Assign your full name\n",
        "\n",
        "\n",
        "\n",
        "# Assign your email address\n",
        "\n",
        "\n",
        "# Assign your desired username\n",
        "\n",
        "\n",
        "# Print yor email\n",
        "\n",
        "# print(\"Your email is: \" + email)\n",
        "\n",
        "\n",
        "### Now you try!\n",
        "# Print a statement that will complete this message:\n",
        "# \"Your username is ____ \"\n",
        "\n",
        "### Print a welcome message:\n",
        "# \"Welcome [insert full name here], let's start coding!\"\n",
        "\n",
        "\n"
      ]
    },
    {
      "cell_type": "code",
      "source": [],
      "metadata": {
        "id": "DlXZ7DbgeaB5"
      },
      "execution_count": 1,
      "outputs": []
    }
  ]
}