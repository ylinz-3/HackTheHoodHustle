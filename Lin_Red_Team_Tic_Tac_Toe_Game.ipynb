{
  "cells": [
    {
      "cell_type": "markdown",
      "metadata": {
        "id": "view-in-github",
        "colab_type": "text"
      },
      "source": [
        "<a href=\"https://colab.research.google.com/github/ylinz-3/HackTheHoodHustle/blob/main/Lin_Red_Team_Tic_Tac_Toe_Game.ipynb\" target=\"_parent\"><img src=\"https://colab.research.google.com/assets/colab-badge.svg\" alt=\"Open In Colab\"/></a>"
      ]
    },
    {
      "cell_type": "code",
      "source": [
        "# Step 2: Board Representation\n",
        "def display_board(positions):\n",
        "    board = (f'|{positions[1]}|{positions[2]}|{positions[3]}|\\n'\n",
        "             f'|{positions[4]}|{positions[5]}|{positions[6]}|\\n'\n",
        "             f'|{positions[7]}|{positions[8]}|{positions[9]}|')\n",
        "    print(board)\n",
        "\n",
        "# Step 3: Player Marker Selection\n",
        "def select_player_markers():\n",
        "    current_player = input(\"Do you want to be X or O? \").upper()\n",
        "    while current_player not in ['X', 'O']:\n",
        "        print(\"There was an error. Please pick X or O.\")\n",
        "        current_player = input(\"Do you want to be X or O? \").upper()\n",
        "    player2 = 'O' if current_player == 'X' else 'X'\n",
        "    print(f\"You picked {current_player}, so Player 2 is {player2}.\")\n",
        "    return current_player\n",
        "\n",
        "# Step 4: Define the Player Input Function\n",
        "def player_input(positions, current_player):\n",
        "    move_valid = False\n",
        "    while not move_valid:\n",
        "        inp = int(input(f\"{current_player}'s turn. Enter a number 1-9 to place your marker: \"))\n",
        "        if inp >= 1 and inp <= 9:\n",
        "            if positions[inp] == ' ':\n",
        "                positions[inp] = current_player\n",
        "                move_valid = True\n",
        "            else:\n",
        "                print(\"That spot is taken. Choose another spot.\")\n",
        "        else:\n",
        "            print(\"Invalid input. Enter a number from 1 to 9.\")\n",
        "\n",
        "# Step 4: Define the Change Player Function\n",
        "def change_player(current_player):\n",
        "    return 'O' if current_player == 'X' else 'X'\n",
        "\n",
        "#1 Function to check if the game is won\n",
        "def check_win(positions, player):\n",
        "    win_conditions = [(1, 2, 3), (4, 5, 6), (7, 8, 9),\n",
        "                      (1, 4, 7), (2, 5, 8), (3, 6, 9),\n",
        "                      (1, 5, 9), (3, 5, 7)]\n",
        "    for condition in win_conditions:\n",
        "        if positions[condition[0]] == positions[condition[1]] == positions[condition[2]] == player:\n",
        "            return True\n",
        "    return False\n",
        "\n",
        "#2 Establishing Main Game Loop\n",
        "while True:\n",
        "    # Initialize the board and player markers\n",
        "    positions = [' '] * 10  # Reset the board\n",
        "    current_player = select_player_markers()\n",
        "\n",
        "    # Main Game Loop\n",
        "    for i in range(9):\n",
        "        display_board(positions)\n",
        "        player_input(positions, current_player)\n",
        "\n",
        "        #3 Check for a win after each move\n",
        "        if check_win(positions, current_player):\n",
        "            display_board(positions)\n",
        "            print(f\"Player {current_player} wins!\")\n",
        "            break\n",
        "\n",
        "        if i < 8:  # Don't change player after the last move\n",
        "            current_player = change_player(current_player)\n",
        "    else:\n",
        "        #4 Handle the draw scenario if no one wins after all moves\n",
        "        display_board(positions)\n",
        "        print(\"It's a draw!\")\n",
        "\n",
        "    #5 Ask if players want to play again\n",
        "    play_again = input(\"Do you want to play again? (yes/no): \").lower()\n",
        "    if play_again != 'yes':\n",
        "        print(\"Thanks for playing!\")\n",
        "        break\n"
      ],
      "metadata": {
        "id": "WZBD6a-hgByg",
        "colab": {
          "base_uri": "https://localhost:8080/"
        },
        "outputId": "0ef37894-6737-46f0-ed08-c662b347f893"
      },
      "execution_count": null,
      "outputs": [
        {
          "output_type": "stream",
          "name": "stdout",
          "text": [
            "Do you want to be X or O? z\n",
            "There was an error. Please pick X or O.\n",
            "Do you want to be X or O? x\n",
            "You picked X, so Player 2 is O.\n",
            "| | | |\n",
            "| | | |\n",
            "| | | |\n",
            "X's turn. Enter a number 1-9 to place your marker: 1\n",
            "|X| | |\n",
            "| | | |\n",
            "| | | |\n",
            "O's turn. Enter a number 1-9 to place your marker: 2\n",
            "|X|O| |\n",
            "| | | |\n",
            "| | | |\n",
            "X's turn. Enter a number 1-9 to place your marker: 2\n",
            "That spot is taken. Choose another spot.\n",
            "X's turn. Enter a number 1-9 to place your marker: 3\n",
            "|X|O|X|\n",
            "| | | |\n",
            "| | | |\n",
            "O's turn. Enter a number 1-9 to place your marker: 4\n",
            "|X|O|X|\n",
            "|O| | |\n",
            "| | | |\n",
            "X's turn. Enter a number 1-9 to place your marker: 5\n",
            "|X|O|X|\n",
            "|O|X| |\n",
            "| | | |\n",
            "O's turn. Enter a number 1-9 to place your marker: 6\n",
            "|X|O|X|\n",
            "|O|X|O|\n",
            "| | | |\n",
            "X's turn. Enter a number 1-9 to place your marker: 7\n",
            "|X|O|X|\n",
            "|O|X|O|\n",
            "|X| | |\n",
            "Player X wins!\n",
            "Do you want to play again? (yes/no): 8\n",
            "Thanks for playing!\n"
          ]
        }
      ]
    }
  ],
  "metadata": {
    "colab": {
      "provenance": [],
      "include_colab_link": true
    },
    "kernelspec": {
      "display_name": "Python 3",
      "name": "python3"
    },
    "language_info": {
      "name": "python"
    }
  },
  "nbformat": 4,
  "nbformat_minor": 0
}