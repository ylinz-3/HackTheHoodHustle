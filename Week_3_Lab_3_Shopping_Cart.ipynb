{
  "nbformat": 4,
  "nbformat_minor": 0,
  "metadata": {
    "colab": {
      "provenance": [],
      "authorship_tag": "ABX9TyMHBSMQw8HhucbnbjGisNtS",
      "include_colab_link": true
    },
    "kernelspec": {
      "name": "python3",
      "display_name": "Python 3"
    },
    "language_info": {
      "name": "python"
    }
  },
  "cells": [
    {
      "cell_type": "markdown",
      "metadata": {
        "id": "view-in-github",
        "colab_type": "text"
      },
      "source": [
        "<a href=\"https://colab.research.google.com/github/ylinz-3/HackTheHoodHustle/blob/main/Week_3_Lab_3_Shopping_Cart.ipynb\" target=\"_parent\"><img src=\"https://colab.research.google.com/assets/colab-badge.svg\" alt=\"Open In Colab\"/></a>"
      ]
    },
    {
      "cell_type": "markdown",
      "source": [
        "# Shopping Cart\n",
        "\n",
        "\n",
        "## Part I\n",
        "1. What do I have?\n",
        "- I have the variables I want to use.\n",
        "- I have defined a way to check if something is already on my cart.\n",
        "- I have a way to ask the user for data.\n",
        "2. what do I want?\n",
        "I want to start the process of building a shopping cart.\n",
        "\n",
        "3. what do I need?\n",
        "- a place to hold items.\n",
        "    \n",
        "    `cart`\n",
        "\n",
        "a way to add items to our list\n",
        "    \n",
        "    `cart.append()`\n",
        "a way to print the items in our list\n",
        "    \n",
        "    `print(\"\"\"\"\"\"\" STUFF \"\"\"\"\"\"\")`\n",
        "\n",
        "\n",
        "a way to check if an item is already on that list. (optional)\n",
        "    `if` item is on the cart\n",
        "    `then`   do something\n",
        "    `else`   do somethign else\n",
        "The applicatio wiull ask the user for items and then add them to a list which we call cart.  then a process will check if the item entered is on the list and if it is, the item will not be placed on that list."
      ],
      "metadata": {
        "id": "zElu7OZfx6yA"
      }
    },
    {
      "cell_type": "code",
      "source": [
        "cart = []"
      ],
      "metadata": {
        "id": "60ylHpzwyvVe"
      },
      "execution_count": null,
      "outputs": []
    },
    {
      "cell_type": "code",
      "source": [
        "cart.append('tacos')\n",
        "print(f\"The items in your cart are: {cart}\")"
      ],
      "metadata": {
        "colab": {
          "base_uri": "https://localhost:8080/"
        },
        "id": "hDfgG9pJyvSF",
        "outputId": "e9e1d692-dd0f-4154-911f-ed87cdc74d87"
      },
      "execution_count": null,
      "outputs": [
        {
          "output_type": "stream",
          "name": "stdout",
          "text": [
            "The items in your cart are: ['tacos']\n"
          ]
        }
      ]
    },
    {
      "cell_type": "code",
      "source": [
        "item = input('What would you like to add to the shopping cart? ')\n",
        "#TODO: Commant this line\n",
        "cart.append(item)\n",
        "#TODO: Commant this line\n",
        "print(f\"The items in your cart are: {cart}\")\n",
        "#TODO: Commant this line"
      ],
      "metadata": {
        "colab": {
          "base_uri": "https://localhost:8080/",
          "height": 356
        },
        "id": "5upXJ1OpyvPl",
        "outputId": "4f2c33cc-7965-4594-ef60-c57d7cb197b6"
      },
      "execution_count": null,
      "outputs": [
        {
          "output_type": "error",
          "ename": "KeyboardInterrupt",
          "evalue": "Interrupted by user",
          "traceback": [
            "\u001b[0;31m---------------------------------------------------------------------------\u001b[0m",
            "\u001b[0;31mKeyboardInterrupt\u001b[0m                         Traceback (most recent call last)",
            "\u001b[0;32m<ipython-input-3-e4f55b2eaac6>\u001b[0m in \u001b[0;36m<cell line: 1>\u001b[0;34m()\u001b[0m\n\u001b[0;32m----> 1\u001b[0;31m \u001b[0mitem\u001b[0m \u001b[0;34m=\u001b[0m \u001b[0minput\u001b[0m\u001b[0;34m(\u001b[0m\u001b[0;34m'What would you like to add to the shopping cart? '\u001b[0m\u001b[0;34m)\u001b[0m\u001b[0;34m\u001b[0m\u001b[0;34m\u001b[0m\u001b[0m\n\u001b[0m\u001b[1;32m      2\u001b[0m \u001b[0;31m#TODO: Commant this line\u001b[0m\u001b[0;34m\u001b[0m\u001b[0;34m\u001b[0m\u001b[0m\n\u001b[1;32m      3\u001b[0m \u001b[0mcart\u001b[0m\u001b[0;34m.\u001b[0m\u001b[0mappend\u001b[0m\u001b[0;34m(\u001b[0m\u001b[0mitem\u001b[0m\u001b[0;34m)\u001b[0m\u001b[0;34m\u001b[0m\u001b[0;34m\u001b[0m\u001b[0m\n\u001b[1;32m      4\u001b[0m \u001b[0;31m#TODO: Commant this line\u001b[0m\u001b[0;34m\u001b[0m\u001b[0;34m\u001b[0m\u001b[0m\n\u001b[1;32m      5\u001b[0m \u001b[0mprint\u001b[0m\u001b[0;34m(\u001b[0m\u001b[0;34mf\"The items in your cart are: {cart}\"\u001b[0m\u001b[0;34m)\u001b[0m\u001b[0;34m\u001b[0m\u001b[0;34m\u001b[0m\u001b[0m\n",
            "\u001b[0;32m/usr/local/lib/python3.10/dist-packages/ipykernel/kernelbase.py\u001b[0m in \u001b[0;36mraw_input\u001b[0;34m(self, prompt)\u001b[0m\n\u001b[1;32m    849\u001b[0m                 \u001b[0;34m\"raw_input was called, but this frontend does not support input requests.\"\u001b[0m\u001b[0;34m\u001b[0m\u001b[0;34m\u001b[0m\u001b[0m\n\u001b[1;32m    850\u001b[0m             )\n\u001b[0;32m--> 851\u001b[0;31m         return self._input_request(str(prompt),\n\u001b[0m\u001b[1;32m    852\u001b[0m             \u001b[0mself\u001b[0m\u001b[0;34m.\u001b[0m\u001b[0m_parent_ident\u001b[0m\u001b[0;34m,\u001b[0m\u001b[0;34m\u001b[0m\u001b[0;34m\u001b[0m\u001b[0m\n\u001b[1;32m    853\u001b[0m             \u001b[0mself\u001b[0m\u001b[0;34m.\u001b[0m\u001b[0m_parent_header\u001b[0m\u001b[0;34m,\u001b[0m\u001b[0;34m\u001b[0m\u001b[0;34m\u001b[0m\u001b[0m\n",
            "\u001b[0;32m/usr/local/lib/python3.10/dist-packages/ipykernel/kernelbase.py\u001b[0m in \u001b[0;36m_input_request\u001b[0;34m(self, prompt, ident, parent, password)\u001b[0m\n\u001b[1;32m    893\u001b[0m             \u001b[0;32mexcept\u001b[0m \u001b[0mKeyboardInterrupt\u001b[0m\u001b[0;34m:\u001b[0m\u001b[0;34m\u001b[0m\u001b[0;34m\u001b[0m\u001b[0m\n\u001b[1;32m    894\u001b[0m                 \u001b[0;31m# re-raise KeyboardInterrupt, to truncate traceback\u001b[0m\u001b[0;34m\u001b[0m\u001b[0;34m\u001b[0m\u001b[0m\n\u001b[0;32m--> 895\u001b[0;31m                 \u001b[0;32mraise\u001b[0m \u001b[0mKeyboardInterrupt\u001b[0m\u001b[0;34m(\u001b[0m\u001b[0;34m\"Interrupted by user\"\u001b[0m\u001b[0;34m)\u001b[0m \u001b[0;32mfrom\u001b[0m \u001b[0;32mNone\u001b[0m\u001b[0;34m\u001b[0m\u001b[0;34m\u001b[0m\u001b[0m\n\u001b[0m\u001b[1;32m    896\u001b[0m             \u001b[0;32mexcept\u001b[0m \u001b[0mException\u001b[0m \u001b[0;32mas\u001b[0m \u001b[0me\u001b[0m\u001b[0;34m:\u001b[0m\u001b[0;34m\u001b[0m\u001b[0;34m\u001b[0m\u001b[0m\n\u001b[1;32m    897\u001b[0m                 \u001b[0mself\u001b[0m\u001b[0;34m.\u001b[0m\u001b[0mlog\u001b[0m\u001b[0;34m.\u001b[0m\u001b[0mwarning\u001b[0m\u001b[0;34m(\u001b[0m\u001b[0;34m\"Invalid Message:\"\u001b[0m\u001b[0;34m,\u001b[0m \u001b[0mexc_info\u001b[0m\u001b[0;34m=\u001b[0m\u001b[0;32mTrue\u001b[0m\u001b[0;34m)\u001b[0m\u001b[0;34m\u001b[0m\u001b[0;34m\u001b[0m\u001b[0m\n",
            "\u001b[0;31mKeyboardInterrupt\u001b[0m: Interrupted by user"
          ]
        }
      ]
    },
    {
      "cell_type": "code",
      "source": [
        "print(f\"The items in your cart are: {cart}\")\n",
        "item = input('What would you like to add to the shopping cart? ')\n",
        "#TODO: Commant this line\n",
        "'''\n",
        "`if` item is on the cart\n",
        "`then`   do something\n",
        "`else`   do somethign else\n",
        "'''\n",
        "if item in cart:\n",
        "    #TODO: Commant this line\n",
        "    print(f'{item} is already on the cart.')\n",
        "    #TODO: Commant this line\n",
        "else:\n",
        "#TODO: Commant this line\n",
        "    cart.append(item)\n",
        "    #TODO: Commant this line\n",
        "print(f\"The items in your cart are: {cart}\")\n",
        "#TODO: Commant this line"
      ],
      "metadata": {
        "id": "P20wxe_myvMN"
      },
      "execution_count": null,
      "outputs": []
    },
    {
      "cell_type": "markdown",
      "source": [
        "# Shopping Cart\n",
        "\n",
        "The application will ask the user for items and then add them to a container which we call cart.  Then a process will check if the item entered is on the cart and if it is, the item will not be placed on that cart.\n",
        "what do I want?\n",
        "I want to create a shopping cart application.\n",
        "what do I need?\n",
        "- a place to hold items.\n",
        "    \n",
        "    `cart`\n",
        "- a way to add items to our cart -- in Part I (List)\n",
        "    \n",
        "    `cart.append()`\n",
        "- a way to display the items in our cart.\n",
        "    \n",
        "    `print(\"\"\"\"\"\"\" STUFF \"\"\"\"\"\"\")`\n",
        "- a process to check if an item exists on the cart.\n",
        "    `if` item is on the cart\n",
        "    `then`   do something\n",
        "    `else`   do somethign else\n",
        "\n",
        "\n",
        "\n",
        "### Part I\n",
        "I will implement a list to store and access our cart.\n",
        "### Part II\n",
        "I will implement a Dictionary to store and access our cart.\n",
        "### Part III\n",
        "I will implement a loop to ask the user to choose to continue or not use the application.\n",
        "### Part IV\n",
        "I will implement a system to check and add up all prices for all items in our cart."
      ],
      "metadata": {
        "id": "lmH38KpK2fXu"
      }
    },
    {
      "cell_type": "markdown",
      "source": [
        "#Part II\n",
        "\n"
      ],
      "metadata": {
        "id": "PLUa-c4lyvHC"
      }
    },
    {
      "cell_type": "code",
      "source": [
        "cart2 = {}"
      ],
      "metadata": {
        "id": "lbz4BF063tt7"
      },
      "execution_count": 4,
      "outputs": []
    },
    {
      "cell_type": "code",
      "source": [
        "item2 = input('What would you like to add to the shopping cart: ')\n",
        "value2 = input(f'How many {item2} do you want: ')\n",
        "if item2 in cart2:\n",
        "    print(f'{item2} is already on the cart.')\n",
        "else:\n",
        "    cart2[item2] = value2\n",
        "print(f\"The items in your cart are: {cart2}\")"
      ],
      "metadata": {
        "id": "6WrZSKmwyvEd",
        "colab": {
          "base_uri": "https://localhost:8080/"
        },
        "outputId": "135067a8-91d7-4916-8ee9-64dec081f2fa"
      },
      "execution_count": 7,
      "outputs": [
        {
          "output_type": "stream",
          "name": "stdout",
          "text": [
            "What would you like to add to the shopping cart: mushrooms\n",
            "How many mushrooms do you want: 4\n",
            "The items in your cart are: {'apples': '2', 'bread': '2', 'mushrooms': '4'}\n"
          ]
        }
      ]
    },
    {
      "cell_type": "markdown",
      "source": [
        "# Part III\n"
      ],
      "metadata": {
        "id": "YA5aChUP9f_A"
      }
    },
    {
      "cell_type": "code",
      "source": [
        "cart3 = {}"
      ],
      "metadata": {
        "id": "3e2-d4I69ezx"
      },
      "execution_count": 9,
      "outputs": []
    },
    {
      "cell_type": "code",
      "source": [
        "# TODO: comment this code block\n",
        "## This code block is asking the user if they would like to make a shopping cart,\n",
        "## and if the user does, the code will ask the user what they want to add to their\n",
        "## list. Once the user finishes adding items, the code will dispaly the shopping list\n",
        "## to the user.\n",
        "\n",
        "choice = 'y'\n",
        "while choice == 'y':\n",
        "    question = input('Would you like use the shopping cart application? (y/n): ')\n",
        "\n",
        "    if question == 'y':\n",
        "        item3 = input('What would you like to add to the shopping cart')\n",
        "        value3 = input(f'How many {item3} do you want: ')\n",
        "        cart3[item3] = value3\n",
        "    else:\n",
        "        print('Thank you for using our application')\n",
        "        break\n",
        "\n",
        "print(f\"The items in your cart are: {cart3}\")"
      ],
      "metadata": {
        "colab": {
          "base_uri": "https://localhost:8080/"
        },
        "id": "YboRnfss-_QA",
        "outputId": "d3379167-fef1-4ea3-c46d-e5c134ce778a"
      },
      "execution_count": 10,
      "outputs": [
        {
          "output_type": "stream",
          "name": "stdout",
          "text": [
            "Would you like use the shopping cart application? (y/n): y\n",
            "What would you like to add to the shopping cartlemons\n",
            "How many lemons do you want: 3\n",
            "Would you like use the shopping cart application? (y/n): y\n",
            "What would you like to add to the shopping cartpotatoes\n",
            "How many potatoes do you want: 5\n",
            "Would you like use the shopping cart application? (y/n): n\n",
            "Thank you for using our application\n",
            "The items in your cart are: {'lemons': '3', 'potatoes': '5'}\n"
          ]
        }
      ]
    }
  ]
}